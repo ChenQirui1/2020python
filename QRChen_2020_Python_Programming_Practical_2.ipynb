{
  "nbformat": 4,
  "nbformat_minor": 0,
  "metadata": {
    "colab": {
      "name": "QRChen 2020 Python Programming Practical 2.ipynb",
      "provenance": [],
      "collapsed_sections": [],
      "include_colab_link": true
    },
    "kernelspec": {
      "name": "python3",
      "display_name": "Python 3"
    }
  },
  "cells": [
    {
      "cell_type": "markdown",
      "metadata": {
        "id": "view-in-github",
        "colab_type": "text"
      },
      "source": [
        "<a href=\"https://colab.research.google.com/github/ChenQirui1/2020python/blob/master/QRChen_2020_Python_Programming_Practical_2.ipynb\" target=\"_parent\"><img src=\"https://colab.research.google.com/assets/colab-badge.svg\" alt=\"Open In Colab\"/></a>"
      ]
    },
    {
      "cell_type": "markdown",
      "metadata": {
        "id": "jp3BkDml8xiR",
        "colab_type": "text"
      },
      "source": [
        "# **2020 Python Programming Practical 2**\n",
        "\n",
        "If you do not have one already, create a [GitHub](https://github.com) account using your DHS Mail.\n",
        "\n",
        "Create a public repository 2020python\n",
        "\n",
        "File --> Save a copy in GitHub under your 2020python repository\n",
        "\n",
        "Also share this colab file with edit access with computing@dhs.sg\n",
        "\n"
      ]
    },
    {
      "cell_type": "markdown",
      "metadata": {
        "id": "-U8w0oQW9P_b",
        "colab_type": "text"
      },
      "source": [
        "**Q1. (Check if number is odd or even)**\n",
        "\n",
        "Write a program that reads an integer and checks whether it is odd or even. \n",
        "\n",
        "Sample interaction:\n",
        "```\n",
        "Enter number: 25\n",
        "25 is odd\n",
        "\n",
        "Enter number: 8\n",
        "8 is even\n",
        "\n",
        "```"
      ]
    },
    {
      "cell_type": "code",
      "metadata": {
        "id": "D0uTR7B-8qbF",
        "colab_type": "code",
        "outputId": "51b83b68-3214-4c30-e79b-5cb9beeccac6",
        "colab": {
          "base_uri": "https://localhost:8080/",
          "height": 51
        }
      },
      "source": [
        "num = int(input('Enter number: '))\n",
        "\n",
        "if num % 2 == 0:\n",
        "  print(f'{num} is even.')\n",
        "else:\n",
        "  print(f'{num} is odd')\n",
        "\n"
      ],
      "execution_count": 0,
      "outputs": [
        {
          "output_type": "stream",
          "text": [
            "Enter number: 5\n",
            "5 is odd\n"
          ],
          "name": "stdout"
        }
      ]
    },
    {
      "cell_type": "markdown",
      "metadata": {
        "id": "7Ui5CuS_9Za1",
        "colab_type": "text"
      },
      "source": [
        "**Q2. (Validate triangles and compute perimeter)**\n",
        "\n",
        "Write a program that reads three edges for a triangle and determines whether the input is valid. The input is valid if the sum of any two edges is greater than the third edge. The program will compute the perimeter of the triangle if the input is valid. Otherwise, display that the input is invalid. \n",
        "\n",
        "Sample interaction:\n",
        "```\n",
        "Enter side 1: 2\n",
        "Enter side 2: 2\n",
        "Enter side 3: 1\n",
        "Perimeter = 5\n",
        "\n",
        "Enter side 1: 1\n",
        "Enter side 2: 2\n",
        "Enter side 3: 1\n",
        "Invalid triangle!\n",
        "\n",
        "```\n",
        "\n",
        "\n"
      ]
    },
    {
      "cell_type": "code",
      "metadata": {
        "id": "CfkRAAWV9cXS",
        "colab_type": "code",
        "outputId": "c70e43db-1902-43e7-9110-b9230c5eb37d",
        "colab": {
          "base_uri": "https://localhost:8080/",
          "height": 85
        }
      },
      "source": [
        "sides = (input('Enter side 1: '), input('Enter side 2: '), input('Enter side 3: '))\n",
        "total = 0\n",
        "for i in sides:\n",
        "  if i == max(sides):\n",
        "    continue\n",
        "  total += int(i)\n",
        "\n",
        "if total > int(max(sides)):\n",
        "  print('Perimeter = ',(total + int(max(sides))))\n",
        "else:\n",
        "  print('Invalid triangle!')\n",
        "  "
      ],
      "execution_count": 0,
      "outputs": [
        {
          "output_type": "stream",
          "text": [
            "Enter side 1: 2\n",
            "Enter side 2: 2\n",
            "Enter side 3: 1\n",
            "Invalid triangle!\n"
          ],
          "name": "stdout"
        }
      ]
    },
    {
      "cell_type": "markdown",
      "metadata": {
        "id": "aVhHiT8w9c7d",
        "colab_type": "text"
      },
      "source": [
        "**Q3. (Determine grade)**\n",
        "\n",
        "Write a program that prompts the user to enter a score between 0 and 100 inclusive and output the corresponding grade as well as a Pass/Fail status. Output an error message if the entered score in not within the valid range. The grading system is as follows (S and U are not passes):\n",
        "\n",
        "A: 70 - 100  \n",
        "B: 60 - 69  \n",
        "C: 55 - 59  \n",
        "D: 50 - 54  \n",
        "E: 45 - 49  \n",
        "S: 35 - 44  \n",
        "U: 0 - 34\n",
        "\n",
        "Sample interaction:\n",
        "```\n",
        "Enter score: 73\n",
        "A\n",
        "Pass\n",
        "\n",
        "Enter score: 37\n",
        "S\n",
        "Fail\n",
        "\n",
        "Enter Score: -1\n",
        "Invalid! Score must be within 0 - 100.\n",
        "\n",
        "```"
      ]
    },
    {
      "cell_type": "code",
      "metadata": {
        "id": "PwRmweEa9fny",
        "colab_type": "code",
        "outputId": "8eaead5f-1299-4329-8475-b95550f076de",
        "colab": {
          "base_uri": "https://localhost:8080/",
          "height": 68
        }
      },
      "source": [
        "score = {'70':'A','60':'B','55':'C','50':'D','45':'E','35':'S','0':'U'}\n",
        "\n",
        "studScore = int(input('Enter Score: ')) \n",
        "while (studScore < 0) or (studScore > 100):\n",
        "  print('Invalid! Score must be within 0 - 100')\n",
        "  studScore = int(input('Enter Score: ')) \n",
        "\n",
        "for key in score:\n",
        "  if studScore >= int(key):\n",
        "    print(score[key])\n",
        "    if score[key] == 'S' or score[key] == 'U':\n",
        "      print('Fail')\n",
        "    else:\n",
        "      print('Pass')\n",
        "    break\n",
        "\n",
        "\n"
      ],
      "execution_count": 6,
      "outputs": [
        {
          "output_type": "stream",
          "text": [
            "Enter Score: 37\n",
            "S\n",
            "Fail\n"
          ],
          "name": "stdout"
        }
      ]
    },
    {
      "cell_type": "markdown",
      "metadata": {
        "id": "GwAIqQNY9gFd",
        "colab_type": "text"
      },
      "source": [
        "**Q4. (Determine leap year)**\n",
        "\n",
        "Write a program that prompts the user to enter a year and determines whether it is a leap year. A year is a leap year if it is divisible by 4 but not 100, or is divisible by 400. \n",
        "\n",
        "Sample interaction:\n",
        "```\n",
        "Enter year: 2020\n",
        "Leap\n",
        "\n",
        "Enter year: 2019\n",
        "Non-Leap\n",
        "```"
      ]
    },
    {
      "cell_type": "code",
      "metadata": {
        "id": "aOozTwoR9j9B",
        "colab_type": "code",
        "outputId": "63dcfd21-6a0f-4760-859e-15fbba5398ee",
        "colab": {
          "base_uri": "https://localhost:8080/",
          "height": 51
        }
      },
      "source": [
        "year = int(input('Enter year: '))\n",
        "\n",
        "if (year%4 == 0) and not (year%100 == 0) or (year%400 ==0):\n",
        "  print('Leap')\n",
        "else:\n",
        "  print('Non-Leap')"
      ],
      "execution_count": 0,
      "outputs": [
        {
          "output_type": "stream",
          "text": [
            "Enter year: 1915\n",
            "Non-Leap\n"
          ],
          "name": "stdout"
        }
      ]
    },
    {
      "cell_type": "markdown",
      "metadata": {
        "id": "lE0ScX9e9kcg",
        "colab_type": "text"
      },
      "source": [
        "**Q5. (Find number of days in a month)**\n",
        "\n",
        "Write a program that prompts the user to enter the month and year, and displays the number of days in the month. Sample interaction:\n",
        "```\n",
        "Enter month: 2\n",
        "Enter year: 2020\n",
        "February 2020 has 29 days.\n",
        "\n",
        "Enter month: 3\n",
        "Enter year: 2021\n",
        "March 2021 has 31 days.\n",
        "\n",
        "```"
      ]
    },
    {
      "cell_type": "code",
      "metadata": {
        "id": "sE_bxwDs9mf6",
        "colab_type": "code",
        "outputId": "b28a87f8-0dba-423d-ea78-1fb8235b5df9",
        "colab": {
          "base_uri": "https://localhost:8080/",
          "height": 68
        }
      },
      "source": [
        "from calendar import monthrange, month_name\n",
        "\n",
        "month = int(input('Enter month: '))\n",
        "year = int(input('Enter year: '))\n",
        "days = monthrange(year, month)\n",
        "\n",
        "print(f'{month_name[month]} {year} has {days[1]} days.')\n"
      ],
      "execution_count": 0,
      "outputs": [
        {
          "output_type": "stream",
          "text": [
            "Enter month: 3\n",
            "Enter year: 2021\n",
            "March 2021 has 31 days.\n"
          ],
          "name": "stdout"
        }
      ]
    },
    {
      "cell_type": "markdown",
      "metadata": {
        "id": "KSviQY0T9m7Q",
        "colab_type": "text"
      },
      "source": [
        "**Q6. (Convert from kilograms to pounds)**\n",
        "\n",
        "Write a program that displays the following table (1 kilogram = 2.2 pounds):\n",
        "```\n",
        "Kilograms Pounds\n",
        "1         2.2\n",
        "2         4.4\n",
        "3         6.6\n",
        "...\n",
        "9         19.8\n",
        "10        22.0\n",
        "```"
      ]
    },
    {
      "cell_type": "code",
      "metadata": {
        "id": "YbH9Pbul9rK-",
        "colab_type": "code",
        "outputId": "14baf138-cbd5-4f52-c55d-a18200269308",
        "colab": {
          "base_uri": "https://localhost:8080/",
          "height": 204
        }
      },
      "source": [
        "print('Kilograms Pounds')\n",
        "\n",
        "for i in range(1,11):\n",
        "  print(f'{i:<9} {i*2.2:.2f}')\n",
        "\n"
      ],
      "execution_count": 0,
      "outputs": [
        {
          "output_type": "stream",
          "text": [
            "Kilograms Pounds\n",
            "1         2.20\n",
            "2         4.40\n",
            "3         6.60\n",
            "4         8.80\n",
            "5         11.00\n",
            "6         13.20\n",
            "7         15.40\n",
            "8         17.60\n",
            "9         19.80\n",
            "10        22.00\n"
          ],
          "name": "stdout"
        }
      ]
    },
    {
      "cell_type": "markdown",
      "metadata": {
        "id": "V9Z95nlg97e4",
        "colab_type": "text"
      },
      "source": [
        "**Q7. (Convert from miles to kilometres)**\n",
        "\n",
        "Write a program that displays the following two tables side-by-side (1 mile = 1.609 kilometres):\n",
        "```\n",
        "Miles\tKilometers\tKilometres\tMiles\n",
        "1    \t1.609     \t20        \t12.430\n",
        "2    \t3.218     \t25        \t15.538\n",
        "\n",
        "...\n",
        "9    \t14.481    \t60        \t37.290\n",
        "10   \t16.090    \t65        \t40.398\n",
        "```\n",
        "\n"
      ]
    },
    {
      "cell_type": "code",
      "metadata": {
        "id": "1AZvvAW499PK",
        "colab_type": "code",
        "outputId": "9b5a1593-9225-4b38-a0e4-e95fb2492d60",
        "colab": {
          "base_uri": "https://localhost:8080/",
          "height": 204
        }
      },
      "source": [
        "kilometres = 20\n",
        "\n",
        "print('Miles    Kilometers    Kilometre    Miles')\n",
        "for i in range(1,11):\n",
        "  kilometers = i*1.609\n",
        "  miles2 = kilometres/1.609\n",
        "  print(f'{i:<9}{kilometers:<14,.3f}{kilometres:<13}{miles2:.3f}')\n",
        "  kilometres += 5\n"
      ],
      "execution_count": 0,
      "outputs": [
        {
          "output_type": "stream",
          "text": [
            "Miles    Kilometers    Kilometre    Miles\n",
            "1        1.609         20           12.430\n",
            "2        3.218         25           15.538\n",
            "3        4.827         30           18.645\n",
            "4        6.436         35           21.753\n",
            "5        8.045         40           24.860\n",
            "6        9.654         45           27.968\n",
            "7        11.263        50           31.075\n",
            "8        12.872        55           34.183\n",
            "9        14.481        60           37.290\n",
            "10       16.090        65           40.398\n"
          ],
          "name": "stdout"
        }
      ]
    },
    {
      "cell_type": "markdown",
      "metadata": {
        "colab_type": "text",
        "id": "79toYNfyD9XP"
      },
      "source": [
        "**Q8. (Find two highest scores)**\n",
        "\n",
        "Write a program that prompts the user to enter the number of students and each student's name and score, and finally displays the student with the highest score and the student with the second-highest score. Enter up to 5 student records.\n",
        "\n"
      ]
    },
    {
      "cell_type": "code",
      "metadata": {
        "id": "Se5J95IjC9bT",
        "colab_type": "code",
        "outputId": "f6cb13f0-c909-43aa-8719-8d6f35e49747",
        "colab": {
          "base_uri": "https://localhost:8080/",
          "height": 170
        }
      },
      "source": [
        "name = []\n",
        "score = []\n",
        "highScore = 0\n",
        "high2Score = 0\n",
        "\n",
        "for i in range(int(input('Enter no. of students:'))):\n",
        "  studName = input(f'Enter name of student {i}: ')\n",
        "  studScore = input(f'Enter score of student {i}: ')\n",
        "  name.append(studName)\n",
        "  score.append(studScore)\n",
        "\n",
        "for i in score:\n",
        "  if int(i) > highScore:\n",
        "    high2Score = highScore\n",
        "    highScore = int(i)\n",
        "  \n",
        "print('Student with highest score: ', name[score.index(str(highScore))])\n",
        "print('Student with 2nd highest score: ', name[score.index(str(high2Score))])\n",
        "\n",
        "    \n",
        "    "
      ],
      "execution_count": 0,
      "outputs": [
        {
          "output_type": "stream",
          "text": [
            "Enter no. of students:3\n",
            "Enter name of student 0: s\n",
            "Enter score of student 0: 30\n",
            "Enter name of student 1: d\n",
            "Enter score of student 1: 50\n",
            "Enter name of student 2: q\n",
            "Enter score of student 2: 60\n",
            "Student with highest score:  q\n",
            "Student with 2nd highest score:  d\n"
          ],
          "name": "stdout"
        }
      ]
    },
    {
      "cell_type": "markdown",
      "metadata": {
        "id": "seLRswd3ED9x",
        "colab_type": "text"
      },
      "source": [
        "**Q9. (Finding the smallest n such that n<sup>2</sup> > 12000)**\n",
        "\n",
        "Use a while loop to find the smallest integer n such that n<sup>2</sup> is greater than 12,000. "
      ]
    },
    {
      "cell_type": "code",
      "metadata": {
        "id": "n_1AS9EREHgQ",
        "colab_type": "code",
        "outputId": "c4a229c5-6988-442b-aa7a-563ae2c944d5",
        "colab": {
          "base_uri": "https://localhost:8080/",
          "height": 34
        }
      },
      "source": [
        "n = 1\n",
        "\n",
        "while n**2 < 12000:\n",
        "  n += 1\n",
        "\n",
        "print(n)"
      ],
      "execution_count": 0,
      "outputs": [
        {
          "output_type": "stream",
          "text": [
            "110\n"
          ],
          "name": "stdout"
        }
      ]
    },
    {
      "cell_type": "markdown",
      "metadata": {
        "id": "YHyv5TE6EH24",
        "colab_type": "text"
      },
      "source": [
        "**Q10. (Finding the largest n such that n<sup>3</sup> < 12000)** \n",
        "\n",
        "Use a while loop to find the largest integer n such that n<sup>3</sup> is less than 12,000."
      ]
    },
    {
      "cell_type": "code",
      "metadata": {
        "id": "B--GNWkcEKkR",
        "colab_type": "code",
        "outputId": "59335224-6161-434b-bfe0-c182d0e527ec",
        "colab": {
          "base_uri": "https://localhost:8080/",
          "height": 34
        }
      },
      "source": [
        "n = 1\n",
        "\n",
        "while n**3 < 12000:\n",
        "  n += 1\n",
        "\n",
        "print(n-1)\n"
      ],
      "execution_count": 0,
      "outputs": [
        {
          "output_type": "stream",
          "text": [
            "22\n"
          ],
          "name": "stdout"
        }
      ]
    },
    {
      "cell_type": "markdown",
      "metadata": {
        "id": "lr8Er0cXEKzY",
        "colab_type": "text"
      },
      "source": [
        "**Q11. (Computing the greatest common divisor)**\n",
        "\n",
        "A solution to find the greatest common divisor of two integers n1 and n2 is as follows:\n",
        "* First find d to be the minimum of n1 and n2\n",
        "* Then check whether d, d-1, … d-2, 2, or 1 is a divisor for both n1 and n2 in this order.\n",
        "* The first such common divisor is the greatest common divisor for n1 and n2. \n",
        "\n",
        "Write a program to implement this solution.  \n",
        "Sample interaction:\n",
        "```\n",
        "Enter n1: 12\n",
        "Enter n2: 18\n",
        "GCD: 6\n",
        "```"
      ]
    },
    {
      "cell_type": "code",
      "metadata": {
        "id": "T8iKWDpgEOSw",
        "colab_type": "code",
        "outputId": "55b32a91-915f-4984-9044-cd25238814b6",
        "colab": {
          "base_uri": "https://localhost:8080/",
          "height": 68
        }
      },
      "source": [
        "n1 = int(input('Enter n1: '))\n",
        "n2 = int(input('Enter n2: '))\n",
        "\n",
        "d = abs(n1 - n2)\n",
        "\n",
        "while n1 % d != 0 or n2 % d != 0:\n",
        "  d -= 1\n",
        "\n",
        "print('GCD:', d)"
      ],
      "execution_count": 34,
      "outputs": [
        {
          "output_type": "stream",
          "text": [
            "Enter n1: 12\n",
            "Enter n2: 18\n",
            "GCD: 6\n"
          ],
          "name": "stdout"
        }
      ]
    },
    {
      "cell_type": "markdown",
      "metadata": {
        "id": "-kojjY6zEOkn",
        "colab_type": "text"
      },
      "source": [
        "**Q12. (Find factors of a positive integer)**\n",
        "\n",
        "Write a program that reads a positive integer > 1 and displays all its factors.   \n",
        "Sample interaction:\n",
        "```\n",
        "Enter n: 120\n",
        "Factors: 2 2 2 3 5 \n",
        "```"
      ]
    },
    {
      "cell_type": "code",
      "metadata": {
        "id": "s3hoL9l5EPjU",
        "colab_type": "code",
        "colab": {
          "base_uri": "https://localhost:8080/",
          "height": 544
        },
        "outputId": "3eaf41e9-eec8-4047-bff1-94c5996f8c42"
      },
      "source": [
        "n = int(input('Enter n:'))\n",
        "factors = []\n",
        "\n",
        "for i in range(2, n):\n",
        "  while n % i == 0:\n",
        "    n = n/i\n",
        "    factors.append(i)\n",
        "\n",
        "print('Factors:', *factors)\n"
      ],
      "execution_count": 2,
      "outputs": [
        {
          "output_type": "stream",
          "text": [
            "Enter n:-1\n"
          ],
          "name": "stdout"
        },
        {
          "output_type": "error",
          "ename": "KeyboardInterrupt",
          "evalue": "ignored",
          "traceback": [
            "\u001b[0;31m---------------------------------------------------------------------------\u001b[0m",
            "\u001b[0;31mKeyboardInterrupt\u001b[0m                         Traceback (most recent call last)",
            "\u001b[0;32m/usr/local/lib/python3.6/dist-packages/ipykernel/kernelbase.py\u001b[0m in \u001b[0;36m_input_request\u001b[0;34m(self, prompt, ident, parent, password)\u001b[0m\n\u001b[1;32m    729\u001b[0m             \u001b[0;32mtry\u001b[0m\u001b[0;34m:\u001b[0m\u001b[0;34m\u001b[0m\u001b[0;34m\u001b[0m\u001b[0m\n\u001b[0;32m--> 730\u001b[0;31m                 \u001b[0mident\u001b[0m\u001b[0;34m,\u001b[0m \u001b[0mreply\u001b[0m \u001b[0;34m=\u001b[0m \u001b[0mself\u001b[0m\u001b[0;34m.\u001b[0m\u001b[0msession\u001b[0m\u001b[0;34m.\u001b[0m\u001b[0mrecv\u001b[0m\u001b[0;34m(\u001b[0m\u001b[0mself\u001b[0m\u001b[0;34m.\u001b[0m\u001b[0mstdin_socket\u001b[0m\u001b[0;34m,\u001b[0m \u001b[0;36m0\u001b[0m\u001b[0;34m)\u001b[0m\u001b[0;34m\u001b[0m\u001b[0;34m\u001b[0m\u001b[0m\n\u001b[0m\u001b[1;32m    731\u001b[0m             \u001b[0;32mexcept\u001b[0m \u001b[0mException\u001b[0m\u001b[0;34m:\u001b[0m\u001b[0;34m\u001b[0m\u001b[0;34m\u001b[0m\u001b[0m\n",
            "\u001b[0;32m/usr/local/lib/python3.6/dist-packages/jupyter_client/session.py\u001b[0m in \u001b[0;36mrecv\u001b[0;34m(self, socket, mode, content, copy)\u001b[0m\n\u001b[1;32m    802\u001b[0m         \u001b[0;32mtry\u001b[0m\u001b[0;34m:\u001b[0m\u001b[0;34m\u001b[0m\u001b[0;34m\u001b[0m\u001b[0m\n\u001b[0;32m--> 803\u001b[0;31m             \u001b[0mmsg_list\u001b[0m \u001b[0;34m=\u001b[0m \u001b[0msocket\u001b[0m\u001b[0;34m.\u001b[0m\u001b[0mrecv_multipart\u001b[0m\u001b[0;34m(\u001b[0m\u001b[0mmode\u001b[0m\u001b[0;34m,\u001b[0m \u001b[0mcopy\u001b[0m\u001b[0;34m=\u001b[0m\u001b[0mcopy\u001b[0m\u001b[0;34m)\u001b[0m\u001b[0;34m\u001b[0m\u001b[0;34m\u001b[0m\u001b[0m\n\u001b[0m\u001b[1;32m    804\u001b[0m         \u001b[0;32mexcept\u001b[0m \u001b[0mzmq\u001b[0m\u001b[0;34m.\u001b[0m\u001b[0mZMQError\u001b[0m \u001b[0;32mas\u001b[0m \u001b[0me\u001b[0m\u001b[0;34m:\u001b[0m\u001b[0;34m\u001b[0m\u001b[0;34m\u001b[0m\u001b[0m\n",
            "\u001b[0;32m/usr/local/lib/python3.6/dist-packages/zmq/sugar/socket.py\u001b[0m in \u001b[0;36mrecv_multipart\u001b[0;34m(self, flags, copy, track)\u001b[0m\n\u001b[1;32m    465\u001b[0m         \"\"\"\n\u001b[0;32m--> 466\u001b[0;31m         \u001b[0mparts\u001b[0m \u001b[0;34m=\u001b[0m \u001b[0;34m[\u001b[0m\u001b[0mself\u001b[0m\u001b[0;34m.\u001b[0m\u001b[0mrecv\u001b[0m\u001b[0;34m(\u001b[0m\u001b[0mflags\u001b[0m\u001b[0;34m,\u001b[0m \u001b[0mcopy\u001b[0m\u001b[0;34m=\u001b[0m\u001b[0mcopy\u001b[0m\u001b[0;34m,\u001b[0m \u001b[0mtrack\u001b[0m\u001b[0;34m=\u001b[0m\u001b[0mtrack\u001b[0m\u001b[0;34m)\u001b[0m\u001b[0;34m]\u001b[0m\u001b[0;34m\u001b[0m\u001b[0;34m\u001b[0m\u001b[0m\n\u001b[0m\u001b[1;32m    467\u001b[0m         \u001b[0;31m# have first part already, only loop while more to receive\u001b[0m\u001b[0;34m\u001b[0m\u001b[0;34m\u001b[0m\u001b[0;34m\u001b[0m\u001b[0m\n",
            "\u001b[0;32mzmq/backend/cython/socket.pyx\u001b[0m in \u001b[0;36mzmq.backend.cython.socket.Socket.recv\u001b[0;34m()\u001b[0m\n",
            "\u001b[0;32mzmq/backend/cython/socket.pyx\u001b[0m in \u001b[0;36mzmq.backend.cython.socket.Socket.recv\u001b[0;34m()\u001b[0m\n",
            "\u001b[0;32mzmq/backend/cython/socket.pyx\u001b[0m in \u001b[0;36mzmq.backend.cython.socket._recv_copy\u001b[0;34m()\u001b[0m\n",
            "\u001b[0;32m/usr/local/lib/python3.6/dist-packages/zmq/backend/cython/checkrc.pxd\u001b[0m in \u001b[0;36mzmq.backend.cython.checkrc._check_rc\u001b[0;34m()\u001b[0m\n",
            "\u001b[0;31mKeyboardInterrupt\u001b[0m: ",
            "\nDuring handling of the above exception, another exception occurred:\n",
            "\u001b[0;31mKeyboardInterrupt\u001b[0m                         Traceback (most recent call last)",
            "\u001b[0;32m<ipython-input-2-f00f0e8aea66>\u001b[0m in \u001b[0;36m<module>\u001b[0;34m()\u001b[0m\n\u001b[1;32m      1\u001b[0m \u001b[0;32mwhile\u001b[0m \u001b[0;32mTrue\u001b[0m\u001b[0;34m:\u001b[0m\u001b[0;34m\u001b[0m\u001b[0;34m\u001b[0m\u001b[0m\n\u001b[0;32m----> 2\u001b[0;31m   \u001b[0mn\u001b[0m \u001b[0;34m=\u001b[0m \u001b[0mint\u001b[0m\u001b[0;34m(\u001b[0m\u001b[0minput\u001b[0m\u001b[0;34m(\u001b[0m\u001b[0;34m'Enter n:'\u001b[0m\u001b[0;34m)\u001b[0m\u001b[0;34m)\u001b[0m\u001b[0;34m\u001b[0m\u001b[0;34m\u001b[0m\u001b[0m\n\u001b[0m\u001b[1;32m      3\u001b[0m   \u001b[0;32mif\u001b[0m \u001b[0mn\u001b[0m \u001b[0;34m>\u001b[0m \u001b[0;36m1\u001b[0m\u001b[0;34m:\u001b[0m\u001b[0;34m\u001b[0m\u001b[0;34m\u001b[0m\u001b[0m\n\u001b[1;32m      4\u001b[0m     \u001b[0;32mbreak\u001b[0m\u001b[0;34m\u001b[0m\u001b[0;34m\u001b[0m\u001b[0m\n\u001b[1;32m      5\u001b[0m \u001b[0mfactors\u001b[0m \u001b[0;34m=\u001b[0m \u001b[0;34m[\u001b[0m\u001b[0;34m]\u001b[0m\u001b[0;34m\u001b[0m\u001b[0;34m\u001b[0m\u001b[0m\n",
            "\u001b[0;32m/usr/local/lib/python3.6/dist-packages/ipykernel/kernelbase.py\u001b[0m in \u001b[0;36mraw_input\u001b[0;34m(self, prompt)\u001b[0m\n\u001b[1;32m    703\u001b[0m             \u001b[0mself\u001b[0m\u001b[0;34m.\u001b[0m\u001b[0m_parent_ident\u001b[0m\u001b[0;34m,\u001b[0m\u001b[0;34m\u001b[0m\u001b[0;34m\u001b[0m\u001b[0m\n\u001b[1;32m    704\u001b[0m             \u001b[0mself\u001b[0m\u001b[0;34m.\u001b[0m\u001b[0m_parent_header\u001b[0m\u001b[0;34m,\u001b[0m\u001b[0;34m\u001b[0m\u001b[0;34m\u001b[0m\u001b[0m\n\u001b[0;32m--> 705\u001b[0;31m             \u001b[0mpassword\u001b[0m\u001b[0;34m=\u001b[0m\u001b[0;32mFalse\u001b[0m\u001b[0;34m,\u001b[0m\u001b[0;34m\u001b[0m\u001b[0;34m\u001b[0m\u001b[0m\n\u001b[0m\u001b[1;32m    706\u001b[0m         )\n\u001b[1;32m    707\u001b[0m \u001b[0;34m\u001b[0m\u001b[0m\n",
            "\u001b[0;32m/usr/local/lib/python3.6/dist-packages/ipykernel/kernelbase.py\u001b[0m in \u001b[0;36m_input_request\u001b[0;34m(self, prompt, ident, parent, password)\u001b[0m\n\u001b[1;32m    733\u001b[0m             \u001b[0;32mexcept\u001b[0m \u001b[0mKeyboardInterrupt\u001b[0m\u001b[0;34m:\u001b[0m\u001b[0;34m\u001b[0m\u001b[0;34m\u001b[0m\u001b[0m\n\u001b[1;32m    734\u001b[0m                 \u001b[0;31m# re-raise KeyboardInterrupt, to truncate traceback\u001b[0m\u001b[0;34m\u001b[0m\u001b[0;34m\u001b[0m\u001b[0;34m\u001b[0m\u001b[0m\n\u001b[0;32m--> 735\u001b[0;31m                 \u001b[0;32mraise\u001b[0m \u001b[0mKeyboardInterrupt\u001b[0m\u001b[0;34m\u001b[0m\u001b[0;34m\u001b[0m\u001b[0m\n\u001b[0m\u001b[1;32m    736\u001b[0m             \u001b[0;32melse\u001b[0m\u001b[0;34m:\u001b[0m\u001b[0;34m\u001b[0m\u001b[0;34m\u001b[0m\u001b[0m\n\u001b[1;32m    737\u001b[0m                 \u001b[0;32mbreak\u001b[0m\u001b[0;34m\u001b[0m\u001b[0;34m\u001b[0m\u001b[0m\n",
            "\u001b[0;31mKeyboardInterrupt\u001b[0m: "
          ]
        }
      ]
    }
  ]
}